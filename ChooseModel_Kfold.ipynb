{
 "cells": [
  {
   "cell_type": "code",
   "execution_count": 70,
   "id": "tribal-imagination",
   "metadata": {},
   "outputs": [],
   "source": [
    "from sklearn.linear_model import LogisticRegression\n",
    "from sklearn.svm import SVC\n",
    "from sklearn.ensemble import RandomForestClassifier\n",
    "import numpy as np\n",
    "import pandas as pd\n",
    "from sklearn.datasets import load_digits"
   ]
  },
  {
   "cell_type": "code",
   "execution_count": 71,
   "id": "separate-jamaica",
   "metadata": {},
   "outputs": [
    {
     "data": {
      "text/plain": [
       "['DESCR', 'data', 'feature_names', 'frame', 'images', 'target', 'target_names']"
      ]
     },
     "execution_count": 71,
     "metadata": {},
     "output_type": "execute_result"
    }
   ],
   "source": [
    "digits=load_digits()\n",
    "dir(digits)"
   ]
  },
  {
   "cell_type": "code",
   "execution_count": 142,
   "id": "unexpected-player",
   "metadata": {},
   "outputs": [],
   "source": [
    "from sklearn.model_selection import train_test_split\n",
    "X_train,X_test,y_train,y_test=train_test_split(digits.data,digits.target,test_size=0.2)"
   ]
  },
  {
   "cell_type": "code",
   "execution_count": 144,
   "id": "innovative-hollywood",
   "metadata": {},
   "outputs": [
    {
     "data": {
      "text/plain": [
       "LogisticRegression(class_weight='balanced', max_iter=10000)"
      ]
     },
     "execution_count": 144,
     "metadata": {},
     "output_type": "execute_result"
    }
   ],
   "source": [
    "lr=LogisticRegression(solver='lbfgs',class_weight='balanced', max_iter=10000)\n",
    "lr.fit(X_train,y_train)"
   ]
  },
  {
   "cell_type": "code",
   "execution_count": 145,
   "id": "planned-workstation",
   "metadata": {},
   "outputs": [
    {
     "data": {
      "text/plain": [
       "0.9638888888888889"
      ]
     },
     "execution_count": 145,
     "metadata": {},
     "output_type": "execute_result"
    }
   ],
   "source": [
    "lr.score(X_test,y_test)"
   ]
  },
  {
   "cell_type": "code",
   "execution_count": 146,
   "id": "raising-small",
   "metadata": {},
   "outputs": [
    {
     "data": {
      "text/plain": [
       "0.9833333333333333"
      ]
     },
     "execution_count": 146,
     "metadata": {},
     "output_type": "execute_result"
    }
   ],
   "source": [
    "svm=SVC()\n",
    "svm.fit(X_train,y_train)\n",
    "svm.score(X_test,y_test)"
   ]
  },
  {
   "cell_type": "code",
   "execution_count": 147,
   "id": "american-harris",
   "metadata": {},
   "outputs": [
    {
     "data": {
      "text/plain": [
       "0.9777777777777777"
      ]
     },
     "execution_count": 147,
     "metadata": {},
     "output_type": "execute_result"
    }
   ],
   "source": [
    "rf=RandomForestClassifier()\n",
    "rf.fit(X_train,y_train)\n",
    "rf.score(X_test,y_test)\n"
   ]
  },
  {
   "cell_type": "code",
   "execution_count": 148,
   "id": "complete-malta",
   "metadata": {},
   "outputs": [
    {
     "data": {
      "text/plain": [
       "KFold(n_splits=3, random_state=None, shuffle=False)"
      ]
     },
     "execution_count": 148,
     "metadata": {},
     "output_type": "execute_result"
    }
   ],
   "source": [
    "from sklearn.model_selection import KFold\n",
    "kf=KFold(n_splits=3)  #n_split=3 is number of folds\n",
    "kf"
   ]
  },
  {
   "cell_type": "code",
   "execution_count": 149,
   "id": "arranged-fundamental",
   "metadata": {},
   "outputs": [
    {
     "name": "stdout",
     "output_type": "stream",
     "text": [
      "[3 4 5 6 7 8] [0 1 2]\n",
      "[0 1 2 6 7 8] [3 4 5]\n",
      "[0 1 2 3 4 5] [6 7 8]\n"
     ]
    }
   ],
   "source": [
    "for train_index,test_index in kf.split([1,2,3,4,5,6,7,8,9]):\n",
    "    print(train_index,test_index)\n",
    "    \n",
    "#oput(pemutation of train and test data)\n",
    "#1st row 6 training 3 testing\n",
    "#2nd row 6 training(3 new 3 existing) 3 testing(new)\n",
    "#and so on"
   ]
  },
  {
   "cell_type": "code",
   "execution_count": 150,
   "id": "saving-chart",
   "metadata": {},
   "outputs": [],
   "source": [
    "def getScore(model,X_train,X_test,y_train,y_test):\n",
    "    model.fit(X_train,y_train)\n",
    "    return model.score(X_test,y_test)"
   ]
  },
  {
   "cell_type": "code",
   "execution_count": 151,
   "id": "joined-reply",
   "metadata": {},
   "outputs": [
    {
     "data": {
      "text/plain": [
       "0.9638888888888889"
      ]
     },
     "execution_count": 151,
     "metadata": {},
     "output_type": "execute_result"
    }
   ],
   "source": [
    "#avoid warning i added params  (solver='lbfgs',class_weight='balanced', max_iter=10000)\n",
    "getScore(LogisticRegression(solver='lbfgs',class_weight='balanced', max_iter=10000),X_train,X_test,y_train,y_test)"
   ]
  },
  {
   "cell_type": "code",
   "execution_count": 152,
   "id": "particular-manufacturer",
   "metadata": {},
   "outputs": [
    {
     "data": {
      "text/plain": [
       "0.9833333333333333"
      ]
     },
     "execution_count": 152,
     "metadata": {},
     "output_type": "execute_result"
    }
   ],
   "source": [
    "getScore(SVC(),X_train,X_test,y_train,y_test)"
   ]
  },
  {
   "cell_type": "code",
   "execution_count": 153,
   "id": "aerial-botswana",
   "metadata": {},
   "outputs": [
    {
     "data": {
      "text/plain": [
       "0.9722222222222222"
      ]
     },
     "execution_count": 153,
     "metadata": {},
     "output_type": "execute_result"
    }
   ],
   "source": [
    "getScore(RandomForestClassifier(),X_train,X_test,y_train,y_test)"
   ]
  },
  {
   "cell_type": "code",
   "execution_count": 154,
   "id": "nasty-practice",
   "metadata": {},
   "outputs": [],
   "source": [
    "#StratifiedKFold works similar to KFold but better\n",
    "from sklearn.model_selection import StratifiedKFold\n",
    "folds = StratifiedKFold(n_splits=3)"
   ]
  },
  {
   "cell_type": "code",
   "execution_count": 155,
   "id": "backed-yukon",
   "metadata": {
    "scrolled": true
   },
   "outputs": [],
   "source": [
    "scores_logistic = []\n",
    "scores_svm = []\n",
    "scores_rf = []\n",
    "\n",
    "for train_index, test_index in folds.split(digits.data,digits.target):\n",
    "    X_train, X_test, y_train, y_test = digits.data[train_index], digits.data[test_index],\\\n",
    "                                       digits.target[train_index], digits.target[test_index]\n",
    "    scores_logistic.append(getScore(LogisticRegression(solver='lbfgs',class_weight='balanced', max_iter=10000),X_train,X_test,y_train,y_test))\n",
    "    scores_svm.append(getScore(SVC(),X_train,X_test,y_train,y_test))\n",
    "    scores_rf.append(getScore(RandomForestClassifier(n_estimators=40),X_train,X_test,y_train,y_test))"
   ]
  },
  {
   "cell_type": "code",
   "execution_count": 156,
   "id": "looking-neighborhood",
   "metadata": {},
   "outputs": [
    {
     "data": {
      "text/plain": [
       "[0.9248747913188647, 0.9382303839732888, 0.9232053422370617]"
      ]
     },
     "execution_count": 156,
     "metadata": {},
     "output_type": "execute_result"
    }
   ],
   "source": [
    "scores_logistic"
   ]
  },
  {
   "cell_type": "code",
   "execution_count": 157,
   "id": "adult-filing",
   "metadata": {},
   "outputs": [
    {
     "data": {
      "text/plain": [
       "[0.9649415692821369, 0.9799666110183639, 0.9649415692821369]"
      ]
     },
     "execution_count": 157,
     "metadata": {},
     "output_type": "execute_result"
    }
   ],
   "source": [
    "scores_svm"
   ]
  },
  {
   "cell_type": "code",
   "execution_count": 158,
   "id": "collectible-observer",
   "metadata": {},
   "outputs": [
    {
     "data": {
      "text/plain": [
       "[0.9282136894824707, 0.9515859766277128, 0.9298831385642737]"
      ]
     },
     "execution_count": 158,
     "metadata": {},
     "output_type": "execute_result"
    }
   ],
   "source": [
    "scores_rf"
   ]
  },
  {
   "cell_type": "code",
   "execution_count": 159,
   "id": "moved-reynolds",
   "metadata": {},
   "outputs": [],
   "source": [
    "#avg of all 3 scores of model to define best"
   ]
  },
  {
   "cell_type": "code",
   "execution_count": 160,
   "id": "demographic-newsletter",
   "metadata": {},
   "outputs": [],
   "source": [
    "#sklearn provides ready-made method for k-folds\n",
    "from sklearn.model_selection import cross_val_score"
   ]
  },
  {
   "cell_type": "code",
   "execution_count": 164,
   "id": "polar-shadow",
   "metadata": {},
   "outputs": [],
   "source": [
    "logiArray=cross_val_score(LogisticRegression(solver='lbfgs',class_weight='balanced', max_iter=10000),digits.data,digits.target,cv=4)"
   ]
  },
  {
   "cell_type": "code",
   "execution_count": 166,
   "id": "settled-resolution",
   "metadata": {},
   "outputs": [],
   "source": [
    "svmArray=cross_val_score(SVC(),digits.data,digits.target,cv=4)"
   ]
  },
  {
   "cell_type": "code",
   "execution_count": 167,
   "id": "excess-station",
   "metadata": {},
   "outputs": [],
   "source": [
    "randomArray=cross_val_score(RandomForestClassifier(),digits.data,digits.target,cv=4)"
   ]
  },
  {
   "cell_type": "code",
   "execution_count": 172,
   "id": "forbidden-treasure",
   "metadata": {},
   "outputs": [
    {
     "name": "stdout",
     "output_type": "stream",
     "text": [
      "Logistic : 0.9293244246473645\n"
     ]
    }
   ],
   "source": [
    "print(\"Logistic :\",np.mean(logiArray))"
   ]
  },
  {
   "cell_type": "code",
   "execution_count": 173,
   "id": "funny-passage",
   "metadata": {},
   "outputs": [
    {
     "name": "stdout",
     "output_type": "stream",
     "text": [
      "SVC : 0.9654998762682504\n"
     ]
    }
   ],
   "source": [
    "print(\"SVC :\",np.mean(svmArray))"
   ]
  },
  {
   "cell_type": "code",
   "execution_count": 174,
   "id": "subtle-lodge",
   "metadata": {},
   "outputs": [
    {
     "name": "stdout",
     "output_type": "stream",
     "text": [
      "RandForest : 0.9354479089334323\n"
     ]
    }
   ],
   "source": [
    "print(\"RandForest :\",np.mean(randomArray))"
   ]
  },
  {
   "cell_type": "markdown",
   "id": "sustainable-utility",
   "metadata": {},
   "source": [
    "# from mean of score we choose SVC model which has more accuracy"
   ]
  }
 ],
 "metadata": {
  "kernelspec": {
   "display_name": "Python 3",
   "language": "python",
   "name": "python3"
  },
  "language_info": {
   "codemirror_mode": {
    "name": "ipython",
    "version": 3
   },
   "file_extension": ".py",
   "mimetype": "text/x-python",
   "name": "python",
   "nbconvert_exporter": "python",
   "pygments_lexer": "ipython3",
   "version": "3.7.1"
  }
 },
 "nbformat": 4,
 "nbformat_minor": 5
}
