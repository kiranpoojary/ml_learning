{
 "cells": [
  {
   "cell_type": "code",
   "execution_count": 170,
   "id": "roman-lebanon",
   "metadata": {},
   "outputs": [],
   "source": [
    "import pandas as pd"
   ]
  },
  {
   "cell_type": "code",
   "execution_count": 171,
   "id": "tight-extent",
   "metadata": {},
   "outputs": [
    {
     "data": {
      "text/html": [
       "<div>\n",
       "<style scoped>\n",
       "    .dataframe tbody tr th:only-of-type {\n",
       "        vertical-align: middle;\n",
       "    }\n",
       "\n",
       "    .dataframe tbody tr th {\n",
       "        vertical-align: top;\n",
       "    }\n",
       "\n",
       "    .dataframe thead th {\n",
       "        text-align: right;\n",
       "    }\n",
       "</style>\n",
       "<table border=\"1\" class=\"dataframe\">\n",
       "  <thead>\n",
       "    <tr style=\"text-align: right;\">\n",
       "      <th></th>\n",
       "      <th>Car Model</th>\n",
       "      <th>Mileage</th>\n",
       "      <th>Sell Price($)</th>\n",
       "      <th>Age(yrs)</th>\n",
       "    </tr>\n",
       "  </thead>\n",
       "  <tbody>\n",
       "    <tr>\n",
       "      <th>0</th>\n",
       "      <td>BMW X5</td>\n",
       "      <td>69000</td>\n",
       "      <td>18000</td>\n",
       "      <td>6</td>\n",
       "    </tr>\n",
       "    <tr>\n",
       "      <th>1</th>\n",
       "      <td>BMW X5</td>\n",
       "      <td>35000</td>\n",
       "      <td>34000</td>\n",
       "      <td>3</td>\n",
       "    </tr>\n",
       "    <tr>\n",
       "      <th>2</th>\n",
       "      <td>BMW X5</td>\n",
       "      <td>57000</td>\n",
       "      <td>26100</td>\n",
       "      <td>5</td>\n",
       "    </tr>\n",
       "    <tr>\n",
       "      <th>3</th>\n",
       "      <td>BMW X5</td>\n",
       "      <td>22500</td>\n",
       "      <td>40000</td>\n",
       "      <td>2</td>\n",
       "    </tr>\n",
       "    <tr>\n",
       "      <th>4</th>\n",
       "      <td>BMW X5</td>\n",
       "      <td>46000</td>\n",
       "      <td>31500</td>\n",
       "      <td>4</td>\n",
       "    </tr>\n",
       "    <tr>\n",
       "      <th>5</th>\n",
       "      <td>Audi A5</td>\n",
       "      <td>59000</td>\n",
       "      <td>29400</td>\n",
       "      <td>5</td>\n",
       "    </tr>\n",
       "    <tr>\n",
       "      <th>6</th>\n",
       "      <td>Audi A5</td>\n",
       "      <td>52000</td>\n",
       "      <td>32000</td>\n",
       "      <td>5</td>\n",
       "    </tr>\n",
       "    <tr>\n",
       "      <th>7</th>\n",
       "      <td>Audi A5</td>\n",
       "      <td>72000</td>\n",
       "      <td>19300</td>\n",
       "      <td>6</td>\n",
       "    </tr>\n",
       "    <tr>\n",
       "      <th>8</th>\n",
       "      <td>Audi A5</td>\n",
       "      <td>91000</td>\n",
       "      <td>12000</td>\n",
       "      <td>8</td>\n",
       "    </tr>\n",
       "    <tr>\n",
       "      <th>9</th>\n",
       "      <td>Mercedez Benz C class</td>\n",
       "      <td>67000</td>\n",
       "      <td>22000</td>\n",
       "      <td>6</td>\n",
       "    </tr>\n",
       "    <tr>\n",
       "      <th>10</th>\n",
       "      <td>Mercedez Benz C class</td>\n",
       "      <td>83000</td>\n",
       "      <td>20000</td>\n",
       "      <td>7</td>\n",
       "    </tr>\n",
       "    <tr>\n",
       "      <th>11</th>\n",
       "      <td>Mercedez Benz C class</td>\n",
       "      <td>79000</td>\n",
       "      <td>21000</td>\n",
       "      <td>7</td>\n",
       "    </tr>\n",
       "    <tr>\n",
       "      <th>12</th>\n",
       "      <td>Mercedez Benz C class</td>\n",
       "      <td>59000</td>\n",
       "      <td>33000</td>\n",
       "      <td>5</td>\n",
       "    </tr>\n",
       "  </tbody>\n",
       "</table>\n",
       "</div>"
      ],
      "text/plain": [
       "                Car Model  Mileage  Sell Price($)  Age(yrs)\n",
       "0                  BMW X5    69000          18000         6\n",
       "1                  BMW X5    35000          34000         3\n",
       "2                  BMW X5    57000          26100         5\n",
       "3                  BMW X5    22500          40000         2\n",
       "4                  BMW X5    46000          31500         4\n",
       "5                 Audi A5    59000          29400         5\n",
       "6                 Audi A5    52000          32000         5\n",
       "7                 Audi A5    72000          19300         6\n",
       "8                 Audi A5    91000          12000         8\n",
       "9   Mercedez Benz C class    67000          22000         6\n",
       "10  Mercedez Benz C class    83000          20000         7\n",
       "11  Mercedez Benz C class    79000          21000         7\n",
       "12  Mercedez Benz C class    59000          33000         5"
      ]
     },
     "execution_count": 171,
     "metadata": {},
     "output_type": "execute_result"
    }
   ],
   "source": [
    "df=pd.read_csv(\"carprice.csv\")\n",
    "df"
   ]
  },
  {
   "cell_type": "markdown",
   "id": "unnecessary-array",
   "metadata": {},
   "source": [
    "# Using dummy variable"
   ]
  },
  {
   "cell_type": "code",
   "execution_count": 172,
   "id": "civilian-sensitivity",
   "metadata": {},
   "outputs": [
    {
     "data": {
      "text/html": [
       "<div>\n",
       "<style scoped>\n",
       "    .dataframe tbody tr th:only-of-type {\n",
       "        vertical-align: middle;\n",
       "    }\n",
       "\n",
       "    .dataframe tbody tr th {\n",
       "        vertical-align: top;\n",
       "    }\n",
       "\n",
       "    .dataframe thead th {\n",
       "        text-align: right;\n",
       "    }\n",
       "</style>\n",
       "<table border=\"1\" class=\"dataframe\">\n",
       "  <thead>\n",
       "    <tr style=\"text-align: right;\">\n",
       "      <th></th>\n",
       "      <th>Audi A5</th>\n",
       "      <th>BMW X5</th>\n",
       "      <th>Mercedez Benz C class</th>\n",
       "    </tr>\n",
       "  </thead>\n",
       "  <tbody>\n",
       "    <tr>\n",
       "      <th>0</th>\n",
       "      <td>0</td>\n",
       "      <td>1</td>\n",
       "      <td>0</td>\n",
       "    </tr>\n",
       "    <tr>\n",
       "      <th>1</th>\n",
       "      <td>0</td>\n",
       "      <td>1</td>\n",
       "      <td>0</td>\n",
       "    </tr>\n",
       "    <tr>\n",
       "      <th>2</th>\n",
       "      <td>0</td>\n",
       "      <td>1</td>\n",
       "      <td>0</td>\n",
       "    </tr>\n",
       "    <tr>\n",
       "      <th>3</th>\n",
       "      <td>0</td>\n",
       "      <td>1</td>\n",
       "      <td>0</td>\n",
       "    </tr>\n",
       "    <tr>\n",
       "      <th>4</th>\n",
       "      <td>0</td>\n",
       "      <td>1</td>\n",
       "      <td>0</td>\n",
       "    </tr>\n",
       "    <tr>\n",
       "      <th>5</th>\n",
       "      <td>1</td>\n",
       "      <td>0</td>\n",
       "      <td>0</td>\n",
       "    </tr>\n",
       "    <tr>\n",
       "      <th>6</th>\n",
       "      <td>1</td>\n",
       "      <td>0</td>\n",
       "      <td>0</td>\n",
       "    </tr>\n",
       "    <tr>\n",
       "      <th>7</th>\n",
       "      <td>1</td>\n",
       "      <td>0</td>\n",
       "      <td>0</td>\n",
       "    </tr>\n",
       "    <tr>\n",
       "      <th>8</th>\n",
       "      <td>1</td>\n",
       "      <td>0</td>\n",
       "      <td>0</td>\n",
       "    </tr>\n",
       "    <tr>\n",
       "      <th>9</th>\n",
       "      <td>0</td>\n",
       "      <td>0</td>\n",
       "      <td>1</td>\n",
       "    </tr>\n",
       "    <tr>\n",
       "      <th>10</th>\n",
       "      <td>0</td>\n",
       "      <td>0</td>\n",
       "      <td>1</td>\n",
       "    </tr>\n",
       "    <tr>\n",
       "      <th>11</th>\n",
       "      <td>0</td>\n",
       "      <td>0</td>\n",
       "      <td>1</td>\n",
       "    </tr>\n",
       "    <tr>\n",
       "      <th>12</th>\n",
       "      <td>0</td>\n",
       "      <td>0</td>\n",
       "      <td>1</td>\n",
       "    </tr>\n",
       "  </tbody>\n",
       "</table>\n",
       "</div>"
      ],
      "text/plain": [
       "    Audi A5  BMW X5  Mercedez Benz C class\n",
       "0         0       1                      0\n",
       "1         0       1                      0\n",
       "2         0       1                      0\n",
       "3         0       1                      0\n",
       "4         0       1                      0\n",
       "5         1       0                      0\n",
       "6         1       0                      0\n",
       "7         1       0                      0\n",
       "8         1       0                      0\n",
       "9         0       0                      1\n",
       "10        0       0                      1\n",
       "11        0       0                      1\n",
       "12        0       0                      1"
      ]
     },
     "execution_count": 172,
     "metadata": {},
     "output_type": "execute_result"
    }
   ],
   "source": [
    "\n",
    "dummies=pd.get_dummies(df['Car Model'])\n",
    "dummies"
   ]
  },
  {
   "cell_type": "code",
   "execution_count": 173,
   "id": "conservative-sierra",
   "metadata": {},
   "outputs": [
    {
     "data": {
      "text/html": [
       "<div>\n",
       "<style scoped>\n",
       "    .dataframe tbody tr th:only-of-type {\n",
       "        vertical-align: middle;\n",
       "    }\n",
       "\n",
       "    .dataframe tbody tr th {\n",
       "        vertical-align: top;\n",
       "    }\n",
       "\n",
       "    .dataframe thead th {\n",
       "        text-align: right;\n",
       "    }\n",
       "</style>\n",
       "<table border=\"1\" class=\"dataframe\">\n",
       "  <thead>\n",
       "    <tr style=\"text-align: right;\">\n",
       "      <th></th>\n",
       "      <th>Car Model</th>\n",
       "      <th>Mileage</th>\n",
       "      <th>Sell Price($)</th>\n",
       "      <th>Age(yrs)</th>\n",
       "      <th>Audi A5</th>\n",
       "      <th>BMW X5</th>\n",
       "      <th>Mercedez Benz C class</th>\n",
       "    </tr>\n",
       "  </thead>\n",
       "  <tbody>\n",
       "    <tr>\n",
       "      <th>0</th>\n",
       "      <td>BMW X5</td>\n",
       "      <td>69000</td>\n",
       "      <td>18000</td>\n",
       "      <td>6</td>\n",
       "      <td>0</td>\n",
       "      <td>1</td>\n",
       "      <td>0</td>\n",
       "    </tr>\n",
       "    <tr>\n",
       "      <th>1</th>\n",
       "      <td>BMW X5</td>\n",
       "      <td>35000</td>\n",
       "      <td>34000</td>\n",
       "      <td>3</td>\n",
       "      <td>0</td>\n",
       "      <td>1</td>\n",
       "      <td>0</td>\n",
       "    </tr>\n",
       "    <tr>\n",
       "      <th>2</th>\n",
       "      <td>BMW X5</td>\n",
       "      <td>57000</td>\n",
       "      <td>26100</td>\n",
       "      <td>5</td>\n",
       "      <td>0</td>\n",
       "      <td>1</td>\n",
       "      <td>0</td>\n",
       "    </tr>\n",
       "    <tr>\n",
       "      <th>3</th>\n",
       "      <td>BMW X5</td>\n",
       "      <td>22500</td>\n",
       "      <td>40000</td>\n",
       "      <td>2</td>\n",
       "      <td>0</td>\n",
       "      <td>1</td>\n",
       "      <td>0</td>\n",
       "    </tr>\n",
       "    <tr>\n",
       "      <th>4</th>\n",
       "      <td>BMW X5</td>\n",
       "      <td>46000</td>\n",
       "      <td>31500</td>\n",
       "      <td>4</td>\n",
       "      <td>0</td>\n",
       "      <td>1</td>\n",
       "      <td>0</td>\n",
       "    </tr>\n",
       "    <tr>\n",
       "      <th>5</th>\n",
       "      <td>Audi A5</td>\n",
       "      <td>59000</td>\n",
       "      <td>29400</td>\n",
       "      <td>5</td>\n",
       "      <td>1</td>\n",
       "      <td>0</td>\n",
       "      <td>0</td>\n",
       "    </tr>\n",
       "    <tr>\n",
       "      <th>6</th>\n",
       "      <td>Audi A5</td>\n",
       "      <td>52000</td>\n",
       "      <td>32000</td>\n",
       "      <td>5</td>\n",
       "      <td>1</td>\n",
       "      <td>0</td>\n",
       "      <td>0</td>\n",
       "    </tr>\n",
       "    <tr>\n",
       "      <th>7</th>\n",
       "      <td>Audi A5</td>\n",
       "      <td>72000</td>\n",
       "      <td>19300</td>\n",
       "      <td>6</td>\n",
       "      <td>1</td>\n",
       "      <td>0</td>\n",
       "      <td>0</td>\n",
       "    </tr>\n",
       "    <tr>\n",
       "      <th>8</th>\n",
       "      <td>Audi A5</td>\n",
       "      <td>91000</td>\n",
       "      <td>12000</td>\n",
       "      <td>8</td>\n",
       "      <td>1</td>\n",
       "      <td>0</td>\n",
       "      <td>0</td>\n",
       "    </tr>\n",
       "    <tr>\n",
       "      <th>9</th>\n",
       "      <td>Mercedez Benz C class</td>\n",
       "      <td>67000</td>\n",
       "      <td>22000</td>\n",
       "      <td>6</td>\n",
       "      <td>0</td>\n",
       "      <td>0</td>\n",
       "      <td>1</td>\n",
       "    </tr>\n",
       "    <tr>\n",
       "      <th>10</th>\n",
       "      <td>Mercedez Benz C class</td>\n",
       "      <td>83000</td>\n",
       "      <td>20000</td>\n",
       "      <td>7</td>\n",
       "      <td>0</td>\n",
       "      <td>0</td>\n",
       "      <td>1</td>\n",
       "    </tr>\n",
       "    <tr>\n",
       "      <th>11</th>\n",
       "      <td>Mercedez Benz C class</td>\n",
       "      <td>79000</td>\n",
       "      <td>21000</td>\n",
       "      <td>7</td>\n",
       "      <td>0</td>\n",
       "      <td>0</td>\n",
       "      <td>1</td>\n",
       "    </tr>\n",
       "    <tr>\n",
       "      <th>12</th>\n",
       "      <td>Mercedez Benz C class</td>\n",
       "      <td>59000</td>\n",
       "      <td>33000</td>\n",
       "      <td>5</td>\n",
       "      <td>0</td>\n",
       "      <td>0</td>\n",
       "      <td>1</td>\n",
       "    </tr>\n",
       "  </tbody>\n",
       "</table>\n",
       "</div>"
      ],
      "text/plain": [
       "                Car Model  Mileage  Sell Price($)  Age(yrs)  Audi A5  BMW X5  \\\n",
       "0                  BMW X5    69000          18000         6        0       1   \n",
       "1                  BMW X5    35000          34000         3        0       1   \n",
       "2                  BMW X5    57000          26100         5        0       1   \n",
       "3                  BMW X5    22500          40000         2        0       1   \n",
       "4                  BMW X5    46000          31500         4        0       1   \n",
       "5                 Audi A5    59000          29400         5        1       0   \n",
       "6                 Audi A5    52000          32000         5        1       0   \n",
       "7                 Audi A5    72000          19300         6        1       0   \n",
       "8                 Audi A5    91000          12000         8        1       0   \n",
       "9   Mercedez Benz C class    67000          22000         6        0       0   \n",
       "10  Mercedez Benz C class    83000          20000         7        0       0   \n",
       "11  Mercedez Benz C class    79000          21000         7        0       0   \n",
       "12  Mercedez Benz C class    59000          33000         5        0       0   \n",
       "\n",
       "    Mercedez Benz C class  \n",
       "0                       0  \n",
       "1                       0  \n",
       "2                       0  \n",
       "3                       0  \n",
       "4                       0  \n",
       "5                       0  \n",
       "6                       0  \n",
       "7                       0  \n",
       "8                       0  \n",
       "9                       1  \n",
       "10                      1  \n",
       "11                      1  \n",
       "12                      1  "
      ]
     },
     "execution_count": 173,
     "metadata": {},
     "output_type": "execute_result"
    }
   ],
   "source": [
    "merged=pd.concat([df,dummies],axis='columns')\n",
    "merged"
   ]
  },
  {
   "cell_type": "code",
   "execution_count": 174,
   "id": "varied-trade",
   "metadata": {},
   "outputs": [
    {
     "data": {
      "text/html": [
       "<div>\n",
       "<style scoped>\n",
       "    .dataframe tbody tr th:only-of-type {\n",
       "        vertical-align: middle;\n",
       "    }\n",
       "\n",
       "    .dataframe tbody tr th {\n",
       "        vertical-align: top;\n",
       "    }\n",
       "\n",
       "    .dataframe thead th {\n",
       "        text-align: right;\n",
       "    }\n",
       "</style>\n",
       "<table border=\"1\" class=\"dataframe\">\n",
       "  <thead>\n",
       "    <tr style=\"text-align: right;\">\n",
       "      <th></th>\n",
       "      <th>Mileage</th>\n",
       "      <th>Sell Price($)</th>\n",
       "      <th>Age(yrs)</th>\n",
       "      <th>Audi A5</th>\n",
       "      <th>BMW X5</th>\n",
       "    </tr>\n",
       "  </thead>\n",
       "  <tbody>\n",
       "    <tr>\n",
       "      <th>0</th>\n",
       "      <td>69000</td>\n",
       "      <td>18000</td>\n",
       "      <td>6</td>\n",
       "      <td>0</td>\n",
       "      <td>1</td>\n",
       "    </tr>\n",
       "    <tr>\n",
       "      <th>1</th>\n",
       "      <td>35000</td>\n",
       "      <td>34000</td>\n",
       "      <td>3</td>\n",
       "      <td>0</td>\n",
       "      <td>1</td>\n",
       "    </tr>\n",
       "    <tr>\n",
       "      <th>2</th>\n",
       "      <td>57000</td>\n",
       "      <td>26100</td>\n",
       "      <td>5</td>\n",
       "      <td>0</td>\n",
       "      <td>1</td>\n",
       "    </tr>\n",
       "    <tr>\n",
       "      <th>3</th>\n",
       "      <td>22500</td>\n",
       "      <td>40000</td>\n",
       "      <td>2</td>\n",
       "      <td>0</td>\n",
       "      <td>1</td>\n",
       "    </tr>\n",
       "    <tr>\n",
       "      <th>4</th>\n",
       "      <td>46000</td>\n",
       "      <td>31500</td>\n",
       "      <td>4</td>\n",
       "      <td>0</td>\n",
       "      <td>1</td>\n",
       "    </tr>\n",
       "    <tr>\n",
       "      <th>5</th>\n",
       "      <td>59000</td>\n",
       "      <td>29400</td>\n",
       "      <td>5</td>\n",
       "      <td>1</td>\n",
       "      <td>0</td>\n",
       "    </tr>\n",
       "    <tr>\n",
       "      <th>6</th>\n",
       "      <td>52000</td>\n",
       "      <td>32000</td>\n",
       "      <td>5</td>\n",
       "      <td>1</td>\n",
       "      <td>0</td>\n",
       "    </tr>\n",
       "    <tr>\n",
       "      <th>7</th>\n",
       "      <td>72000</td>\n",
       "      <td>19300</td>\n",
       "      <td>6</td>\n",
       "      <td>1</td>\n",
       "      <td>0</td>\n",
       "    </tr>\n",
       "    <tr>\n",
       "      <th>8</th>\n",
       "      <td>91000</td>\n",
       "      <td>12000</td>\n",
       "      <td>8</td>\n",
       "      <td>1</td>\n",
       "      <td>0</td>\n",
       "    </tr>\n",
       "    <tr>\n",
       "      <th>9</th>\n",
       "      <td>67000</td>\n",
       "      <td>22000</td>\n",
       "      <td>6</td>\n",
       "      <td>0</td>\n",
       "      <td>0</td>\n",
       "    </tr>\n",
       "    <tr>\n",
       "      <th>10</th>\n",
       "      <td>83000</td>\n",
       "      <td>20000</td>\n",
       "      <td>7</td>\n",
       "      <td>0</td>\n",
       "      <td>0</td>\n",
       "    </tr>\n",
       "    <tr>\n",
       "      <th>11</th>\n",
       "      <td>79000</td>\n",
       "      <td>21000</td>\n",
       "      <td>7</td>\n",
       "      <td>0</td>\n",
       "      <td>0</td>\n",
       "    </tr>\n",
       "    <tr>\n",
       "      <th>12</th>\n",
       "      <td>59000</td>\n",
       "      <td>33000</td>\n",
       "      <td>5</td>\n",
       "      <td>0</td>\n",
       "      <td>0</td>\n",
       "    </tr>\n",
       "  </tbody>\n",
       "</table>\n",
       "</div>"
      ],
      "text/plain": [
       "    Mileage  Sell Price($)  Age(yrs)  Audi A5  BMW X5\n",
       "0     69000          18000         6        0       1\n",
       "1     35000          34000         3        0       1\n",
       "2     57000          26100         5        0       1\n",
       "3     22500          40000         2        0       1\n",
       "4     46000          31500         4        0       1\n",
       "5     59000          29400         5        1       0\n",
       "6     52000          32000         5        1       0\n",
       "7     72000          19300         6        1       0\n",
       "8     91000          12000         8        1       0\n",
       "9     67000          22000         6        0       0\n",
       "10    83000          20000         7        0       0\n",
       "11    79000          21000         7        0       0\n",
       "12    59000          33000         5        0       0"
      ]
     },
     "execution_count": 174,
     "metadata": {},
     "output_type": "execute_result"
    }
   ],
   "source": [
    "#drop model\n",
    "#drop any one of dummy variable(ex. Mercedez Benz C class) to avoid dummy variable trap\n",
    "final=merged.drop(['Car Model','Mercedez Benz C class'],axis='columns')\n",
    "final"
   ]
  },
  {
   "cell_type": "code",
   "execution_count": 175,
   "id": "later-casino",
   "metadata": {},
   "outputs": [
    {
     "data": {
      "text/html": [
       "<div>\n",
       "<style scoped>\n",
       "    .dataframe tbody tr th:only-of-type {\n",
       "        vertical-align: middle;\n",
       "    }\n",
       "\n",
       "    .dataframe tbody tr th {\n",
       "        vertical-align: top;\n",
       "    }\n",
       "\n",
       "    .dataframe thead th {\n",
       "        text-align: right;\n",
       "    }\n",
       "</style>\n",
       "<table border=\"1\" class=\"dataframe\">\n",
       "  <thead>\n",
       "    <tr style=\"text-align: right;\">\n",
       "      <th></th>\n",
       "      <th>Mileage</th>\n",
       "      <th>Age(yrs)</th>\n",
       "      <th>Audi A5</th>\n",
       "      <th>BMW X5</th>\n",
       "    </tr>\n",
       "  </thead>\n",
       "  <tbody>\n",
       "    <tr>\n",
       "      <th>0</th>\n",
       "      <td>69000</td>\n",
       "      <td>6</td>\n",
       "      <td>0</td>\n",
       "      <td>1</td>\n",
       "    </tr>\n",
       "    <tr>\n",
       "      <th>1</th>\n",
       "      <td>35000</td>\n",
       "      <td>3</td>\n",
       "      <td>0</td>\n",
       "      <td>1</td>\n",
       "    </tr>\n",
       "    <tr>\n",
       "      <th>2</th>\n",
       "      <td>57000</td>\n",
       "      <td>5</td>\n",
       "      <td>0</td>\n",
       "      <td>1</td>\n",
       "    </tr>\n",
       "    <tr>\n",
       "      <th>3</th>\n",
       "      <td>22500</td>\n",
       "      <td>2</td>\n",
       "      <td>0</td>\n",
       "      <td>1</td>\n",
       "    </tr>\n",
       "    <tr>\n",
       "      <th>4</th>\n",
       "      <td>46000</td>\n",
       "      <td>4</td>\n",
       "      <td>0</td>\n",
       "      <td>1</td>\n",
       "    </tr>\n",
       "    <tr>\n",
       "      <th>5</th>\n",
       "      <td>59000</td>\n",
       "      <td>5</td>\n",
       "      <td>1</td>\n",
       "      <td>0</td>\n",
       "    </tr>\n",
       "    <tr>\n",
       "      <th>6</th>\n",
       "      <td>52000</td>\n",
       "      <td>5</td>\n",
       "      <td>1</td>\n",
       "      <td>0</td>\n",
       "    </tr>\n",
       "    <tr>\n",
       "      <th>7</th>\n",
       "      <td>72000</td>\n",
       "      <td>6</td>\n",
       "      <td>1</td>\n",
       "      <td>0</td>\n",
       "    </tr>\n",
       "    <tr>\n",
       "      <th>8</th>\n",
       "      <td>91000</td>\n",
       "      <td>8</td>\n",
       "      <td>1</td>\n",
       "      <td>0</td>\n",
       "    </tr>\n",
       "    <tr>\n",
       "      <th>9</th>\n",
       "      <td>67000</td>\n",
       "      <td>6</td>\n",
       "      <td>0</td>\n",
       "      <td>0</td>\n",
       "    </tr>\n",
       "    <tr>\n",
       "      <th>10</th>\n",
       "      <td>83000</td>\n",
       "      <td>7</td>\n",
       "      <td>0</td>\n",
       "      <td>0</td>\n",
       "    </tr>\n",
       "    <tr>\n",
       "      <th>11</th>\n",
       "      <td>79000</td>\n",
       "      <td>7</td>\n",
       "      <td>0</td>\n",
       "      <td>0</td>\n",
       "    </tr>\n",
       "    <tr>\n",
       "      <th>12</th>\n",
       "      <td>59000</td>\n",
       "      <td>5</td>\n",
       "      <td>0</td>\n",
       "      <td>0</td>\n",
       "    </tr>\n",
       "  </tbody>\n",
       "</table>\n",
       "</div>"
      ],
      "text/plain": [
       "    Mileage  Age(yrs)  Audi A5  BMW X5\n",
       "0     69000         6        0       1\n",
       "1     35000         3        0       1\n",
       "2     57000         5        0       1\n",
       "3     22500         2        0       1\n",
       "4     46000         4        0       1\n",
       "5     59000         5        1       0\n",
       "6     52000         5        1       0\n",
       "7     72000         6        1       0\n",
       "8     91000         8        1       0\n",
       "9     67000         6        0       0\n",
       "10    83000         7        0       0\n",
       "11    79000         7        0       0\n",
       "12    59000         5        0       0"
      ]
     },
     "execution_count": 175,
     "metadata": {},
     "output_type": "execute_result"
    }
   ],
   "source": [
    "X=final.drop(['Sell Price($)'],axis='columns')\n",
    "X"
   ]
  },
  {
   "cell_type": "code",
   "execution_count": 176,
   "id": "ongoing-bedroom",
   "metadata": {},
   "outputs": [
    {
     "data": {
      "text/plain": [
       "0     18000\n",
       "1     34000\n",
       "2     26100\n",
       "3     40000\n",
       "4     31500\n",
       "5     29400\n",
       "6     32000\n",
       "7     19300\n",
       "8     12000\n",
       "9     22000\n",
       "10    20000\n",
       "11    21000\n",
       "12    33000\n",
       "Name: Sell Price($), dtype: int64"
      ]
     },
     "execution_count": 176,
     "metadata": {},
     "output_type": "execute_result"
    }
   ],
   "source": [
    "y=final['Sell Price($)']\n",
    "y"
   ]
  },
  {
   "cell_type": "code",
   "execution_count": 177,
   "id": "partial-cocktail",
   "metadata": {},
   "outputs": [],
   "source": [
    "from sklearn import linear_model\n",
    "model=linear_model.LinearRegression()"
   ]
  },
  {
   "cell_type": "code",
   "execution_count": 178,
   "id": "fewer-first",
   "metadata": {},
   "outputs": [
    {
     "data": {
      "text/plain": [
       "LinearRegression()"
      ]
     },
     "execution_count": 178,
     "metadata": {},
     "output_type": "execute_result"
    }
   ],
   "source": [
    "model.fit(X,y)"
   ]
  },
  {
   "cell_type": "code",
   "execution_count": 179,
   "id": "manufactured-scheme",
   "metadata": {},
   "outputs": [
    {
     "data": {
      "text/plain": [
       "0.9417050937281083"
      ]
     },
     "execution_count": 179,
     "metadata": {},
     "output_type": "execute_result"
    }
   ],
   "source": [
    "model.score(X,y)"
   ]
  },
  {
   "cell_type": "code",
   "execution_count": 180,
   "id": "realistic-hearts",
   "metadata": {},
   "outputs": [
    {
     "data": {
      "text/plain": [
       "array([-3.70122094e-01, -1.33245363e+03, -2.45354074e+03, -6.73820733e+03])"
      ]
     },
     "execution_count": 180,
     "metadata": {},
     "output_type": "execute_result"
    }
   ],
   "source": [
    "model.coef_"
   ]
  },
  {
   "cell_type": "code",
   "execution_count": 181,
   "id": "bearing-purpose",
   "metadata": {},
   "outputs": [
    {
     "data": {
      "text/plain": [
       "58976.625968537235"
      ]
     },
     "execution_count": 181,
     "metadata": {},
     "output_type": "execute_result"
    }
   ],
   "source": [
    "model.intercept_"
   ]
  },
  {
   "cell_type": "code",
   "execution_count": 182,
   "id": "separated-skill",
   "metadata": {},
   "outputs": [
    {
     "data": {
      "text/plain": [
       "array([36991.31721061])"
      ]
     },
     "execution_count": 182,
     "metadata": {},
     "output_type": "execute_result"
    }
   ],
   "source": [
    "model.predict([[45000,4,0,0]])"
   ]
  },
  {
   "cell_type": "code",
   "execution_count": 183,
   "id": "endless-disaster",
   "metadata": {},
   "outputs": [
    {
     "data": {
      "text/plain": [
       "array([11080.74313219])"
      ]
     },
     "execution_count": 183,
     "metadata": {},
     "output_type": "execute_result"
    }
   ],
   "source": [
    "model.predict([[86000,7,0,1]])"
   ]
  },
  {
   "cell_type": "markdown",
   "id": "adolescent-ozone",
   "metadata": {},
   "source": [
    "# Using sklearn One Host Encoder"
   ]
  },
  {
   "cell_type": "code",
   "execution_count": 259,
   "id": "fitted-victor",
   "metadata": {},
   "outputs": [],
   "source": [
    "from sklearn.preprocessing import LabelEncoder\n",
    "le=LabelEncoder()"
   ]
  },
  {
   "cell_type": "code",
   "execution_count": 260,
   "id": "invisible-protection",
   "metadata": {},
   "outputs": [
    {
     "data": {
      "text/html": [
       "<div>\n",
       "<style scoped>\n",
       "    .dataframe tbody tr th:only-of-type {\n",
       "        vertical-align: middle;\n",
       "    }\n",
       "\n",
       "    .dataframe tbody tr th {\n",
       "        vertical-align: top;\n",
       "    }\n",
       "\n",
       "    .dataframe thead th {\n",
       "        text-align: right;\n",
       "    }\n",
       "</style>\n",
       "<table border=\"1\" class=\"dataframe\">\n",
       "  <thead>\n",
       "    <tr style=\"text-align: right;\">\n",
       "      <th></th>\n",
       "      <th>Car Model</th>\n",
       "      <th>Mileage</th>\n",
       "      <th>Sell Price($)</th>\n",
       "      <th>Age(yrs)</th>\n",
       "    </tr>\n",
       "  </thead>\n",
       "  <tbody>\n",
       "    <tr>\n",
       "      <th>0</th>\n",
       "      <td>1</td>\n",
       "      <td>69000</td>\n",
       "      <td>18000</td>\n",
       "      <td>6</td>\n",
       "    </tr>\n",
       "    <tr>\n",
       "      <th>1</th>\n",
       "      <td>1</td>\n",
       "      <td>35000</td>\n",
       "      <td>34000</td>\n",
       "      <td>3</td>\n",
       "    </tr>\n",
       "    <tr>\n",
       "      <th>2</th>\n",
       "      <td>1</td>\n",
       "      <td>57000</td>\n",
       "      <td>26100</td>\n",
       "      <td>5</td>\n",
       "    </tr>\n",
       "    <tr>\n",
       "      <th>3</th>\n",
       "      <td>1</td>\n",
       "      <td>22500</td>\n",
       "      <td>40000</td>\n",
       "      <td>2</td>\n",
       "    </tr>\n",
       "    <tr>\n",
       "      <th>4</th>\n",
       "      <td>1</td>\n",
       "      <td>46000</td>\n",
       "      <td>31500</td>\n",
       "      <td>4</td>\n",
       "    </tr>\n",
       "    <tr>\n",
       "      <th>5</th>\n",
       "      <td>0</td>\n",
       "      <td>59000</td>\n",
       "      <td>29400</td>\n",
       "      <td>5</td>\n",
       "    </tr>\n",
       "    <tr>\n",
       "      <th>6</th>\n",
       "      <td>0</td>\n",
       "      <td>52000</td>\n",
       "      <td>32000</td>\n",
       "      <td>5</td>\n",
       "    </tr>\n",
       "    <tr>\n",
       "      <th>7</th>\n",
       "      <td>0</td>\n",
       "      <td>72000</td>\n",
       "      <td>19300</td>\n",
       "      <td>6</td>\n",
       "    </tr>\n",
       "    <tr>\n",
       "      <th>8</th>\n",
       "      <td>0</td>\n",
       "      <td>91000</td>\n",
       "      <td>12000</td>\n",
       "      <td>8</td>\n",
       "    </tr>\n",
       "    <tr>\n",
       "      <th>9</th>\n",
       "      <td>2</td>\n",
       "      <td>67000</td>\n",
       "      <td>22000</td>\n",
       "      <td>6</td>\n",
       "    </tr>\n",
       "    <tr>\n",
       "      <th>10</th>\n",
       "      <td>2</td>\n",
       "      <td>83000</td>\n",
       "      <td>20000</td>\n",
       "      <td>7</td>\n",
       "    </tr>\n",
       "    <tr>\n",
       "      <th>11</th>\n",
       "      <td>2</td>\n",
       "      <td>79000</td>\n",
       "      <td>21000</td>\n",
       "      <td>7</td>\n",
       "    </tr>\n",
       "    <tr>\n",
       "      <th>12</th>\n",
       "      <td>2</td>\n",
       "      <td>59000</td>\n",
       "      <td>33000</td>\n",
       "      <td>5</td>\n",
       "    </tr>\n",
       "  </tbody>\n",
       "</table>\n",
       "</div>"
      ],
      "text/plain": [
       "    Car Model  Mileage  Sell Price($)  Age(yrs)\n",
       "0           1    69000          18000         6\n",
       "1           1    35000          34000         3\n",
       "2           1    57000          26100         5\n",
       "3           1    22500          40000         2\n",
       "4           1    46000          31500         4\n",
       "5           0    59000          29400         5\n",
       "6           0    52000          32000         5\n",
       "7           0    72000          19300         6\n",
       "8           0    91000          12000         8\n",
       "9           2    67000          22000         6\n",
       "10          2    83000          20000         7\n",
       "11          2    79000          21000         7\n",
       "12          2    59000          33000         5"
      ]
     },
     "execution_count": 260,
     "metadata": {},
     "output_type": "execute_result"
    }
   ],
   "source": [
    "dfle=df\n",
    "dfle['Car Model']=le.fit_transform(dfle['Car Model'])\n",
    "dfle"
   ]
  },
  {
   "cell_type": "code",
   "execution_count": 270,
   "id": "strange-giving",
   "metadata": {},
   "outputs": [
    {
     "data": {
      "text/plain": [
       "array([[    1, 69000,     6],\n",
       "       [    1, 35000,     3],\n",
       "       [    1, 57000,     5],\n",
       "       [    1, 22500,     2],\n",
       "       [    1, 46000,     4],\n",
       "       [    0, 59000,     5],\n",
       "       [    0, 52000,     5],\n",
       "       [    0, 72000,     6],\n",
       "       [    0, 91000,     8],\n",
       "       [    2, 67000,     6],\n",
       "       [    2, 83000,     7],\n",
       "       [    2, 79000,     7],\n",
       "       [    2, 59000,     5]], dtype=int64)"
      ]
     },
     "execution_count": 270,
     "metadata": {},
     "output_type": "execute_result"
    }
   ],
   "source": [
    "X=dfle[['Car Model','Mileage','Age(yrs)']].values\n",
    "X"
   ]
  },
  {
   "cell_type": "code",
   "execution_count": 271,
   "id": "funky-river",
   "metadata": {},
   "outputs": [
    {
     "data": {
      "text/plain": [
       "array([18000, 34000, 26100, 40000, 31500, 29400, 32000, 19300, 12000,\n",
       "       22000, 20000, 21000, 33000], dtype=int64)"
      ]
     },
     "execution_count": 271,
     "metadata": {},
     "output_type": "execute_result"
    }
   ],
   "source": [
    "y=dfle['Sell Price($)'].values\n",
    "y"
   ]
  },
  {
   "cell_type": "code",
   "execution_count": 272,
   "id": "pending-johnston",
   "metadata": {},
   "outputs": [],
   "source": [
    "from sklearn.preprocessing import OneHotEncoder\n",
    "from sklearn.compose import ColumnTransformer\n",
    "ct=ColumnTransformer([('Car Model',OneHotEncoder(),[0])],remainder='passthrough')"
   ]
  },
  {
   "cell_type": "code",
   "execution_count": 273,
   "id": "interpreted-colorado",
   "metadata": {},
   "outputs": [
    {
     "data": {
      "text/plain": [
       "array([[0.00e+00, 1.00e+00, 0.00e+00, 6.90e+04, 6.00e+00],\n",
       "       [0.00e+00, 1.00e+00, 0.00e+00, 3.50e+04, 3.00e+00],\n",
       "       [0.00e+00, 1.00e+00, 0.00e+00, 5.70e+04, 5.00e+00],\n",
       "       [0.00e+00, 1.00e+00, 0.00e+00, 2.25e+04, 2.00e+00],\n",
       "       [0.00e+00, 1.00e+00, 0.00e+00, 4.60e+04, 4.00e+00],\n",
       "       [1.00e+00, 0.00e+00, 0.00e+00, 5.90e+04, 5.00e+00],\n",
       "       [1.00e+00, 0.00e+00, 0.00e+00, 5.20e+04, 5.00e+00],\n",
       "       [1.00e+00, 0.00e+00, 0.00e+00, 7.20e+04, 6.00e+00],\n",
       "       [1.00e+00, 0.00e+00, 0.00e+00, 9.10e+04, 8.00e+00],\n",
       "       [0.00e+00, 0.00e+00, 1.00e+00, 6.70e+04, 6.00e+00],\n",
       "       [0.00e+00, 0.00e+00, 1.00e+00, 8.30e+04, 7.00e+00],\n",
       "       [0.00e+00, 0.00e+00, 1.00e+00, 7.90e+04, 7.00e+00],\n",
       "       [0.00e+00, 0.00e+00, 1.00e+00, 5.90e+04, 5.00e+00]])"
      ]
     },
     "execution_count": 273,
     "metadata": {},
     "output_type": "execute_result"
    }
   ],
   "source": [
    "X=ct.fit_transform(X)\n",
    "X"
   ]
  },
  {
   "cell_type": "code",
   "execution_count": 274,
   "id": "handy-ribbon",
   "metadata": {},
   "outputs": [
    {
     "data": {
      "text/plain": [
       "array([[0.00e+00, 1.00e+00, 6.90e+04, 6.00e+00],\n",
       "       [0.00e+00, 1.00e+00, 3.50e+04, 3.00e+00],\n",
       "       [0.00e+00, 1.00e+00, 5.70e+04, 5.00e+00],\n",
       "       [0.00e+00, 1.00e+00, 2.25e+04, 2.00e+00],\n",
       "       [0.00e+00, 1.00e+00, 4.60e+04, 4.00e+00],\n",
       "       [1.00e+00, 0.00e+00, 5.90e+04, 5.00e+00],\n",
       "       [1.00e+00, 0.00e+00, 5.20e+04, 5.00e+00],\n",
       "       [1.00e+00, 0.00e+00, 7.20e+04, 6.00e+00],\n",
       "       [1.00e+00, 0.00e+00, 9.10e+04, 8.00e+00],\n",
       "       [0.00e+00, 0.00e+00, 6.70e+04, 6.00e+00],\n",
       "       [0.00e+00, 0.00e+00, 8.30e+04, 7.00e+00],\n",
       "       [0.00e+00, 0.00e+00, 7.90e+04, 7.00e+00],\n",
       "       [0.00e+00, 0.00e+00, 5.90e+04, 5.00e+00]])"
      ]
     },
     "execution_count": 274,
     "metadata": {},
     "output_type": "execute_result"
    }
   ],
   "source": [
    "X=X[:,(0,1,3,4)]\n",
    "X"
   ]
  },
  {
   "cell_type": "code",
   "execution_count": 283,
   "id": "proper-compression",
   "metadata": {},
   "outputs": [
    {
     "data": {
      "text/plain": [
       "LinearRegression()"
      ]
     },
     "execution_count": 283,
     "metadata": {},
     "output_type": "execute_result"
    }
   ],
   "source": [
    "model.fit(X,y)"
   ]
  },
  {
   "cell_type": "code",
   "execution_count": 284,
   "id": "theoretical-surfing",
   "metadata": {},
   "outputs": [
    {
     "data": {
      "text/plain": [
       "0.9417050937281083"
      ]
     },
     "execution_count": 284,
     "metadata": {},
     "output_type": "execute_result"
    }
   ],
   "source": [
    "model.score(X,y)"
   ]
  },
  {
   "cell_type": "code",
   "execution_count": 285,
   "id": "starting-dinner",
   "metadata": {},
   "outputs": [
    {
     "data": {
      "text/plain": [
       "array([-2.45354074e+03, -6.73820733e+03, -3.70122094e-01, -1.33245363e+03])"
      ]
     },
     "execution_count": 285,
     "metadata": {},
     "output_type": "execute_result"
    }
   ],
   "source": [
    "model.coef_"
   ]
  },
  {
   "cell_type": "code",
   "execution_count": 286,
   "id": "orange-abraham",
   "metadata": {},
   "outputs": [
    {
     "data": {
      "text/plain": [
       "58976.6259685555"
      ]
     },
     "execution_count": 286,
     "metadata": {},
     "output_type": "execute_result"
    }
   ],
   "source": [
    "model.intercept_"
   ]
  },
  {
   "cell_type": "code",
   "execution_count": 287,
   "id": "tracked-nowhere",
   "metadata": {},
   "outputs": [
    {
     "data": {
      "text/plain": [
       "array([36991.31721061])"
      ]
     },
     "execution_count": 287,
     "metadata": {},
     "output_type": "execute_result"
    }
   ],
   "source": [
    "#model mileage\n",
    "model.predict([[0,0,45000,4]])"
   ]
  },
  {
   "cell_type": "code",
   "execution_count": 288,
   "id": "experienced-investigator",
   "metadata": {},
   "outputs": [
    {
     "data": {
      "text/plain": [
       "array([11080.74313219])"
      ]
     },
     "execution_count": 288,
     "metadata": {},
     "output_type": "execute_result"
    }
   ],
   "source": [
    "model.predict([[0,1,86000,7]])"
   ]
  }
 ],
 "metadata": {
  "kernelspec": {
   "display_name": "Python 3",
   "language": "python",
   "name": "python3"
  },
  "language_info": {
   "codemirror_mode": {
    "name": "ipython",
    "version": 3
   },
   "file_extension": ".py",
   "mimetype": "text/x-python",
   "name": "python",
   "nbconvert_exporter": "python",
   "pygments_lexer": "ipython3",
   "version": "3.7.1"
  }
 },
 "nbformat": 4,
 "nbformat_minor": 5
}
