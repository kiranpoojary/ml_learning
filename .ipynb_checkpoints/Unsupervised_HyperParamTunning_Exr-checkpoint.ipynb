{
 "cells": [
  {
   "cell_type": "code",
   "execution_count": 4,
   "id": "peaceful-cambridge",
   "metadata": {},
   "outputs": [],
   "source": [
    "from sklearn.linear_model import LogisticRegression\n",
    "from sklearn.ensemble import RandomForestClassifier\n",
    "from sklearn.tree import DecisionTreeClassifier\n",
    "from sklearn.svm import SVC\n",
    "from sklearn.naive_bayes import MultinomialNB\n",
    "from sklearn.naive_bayes import GaussianNB\n",
    "from sklearn.datasets import load_digits\n",
    "digits=load_digits()"
   ]
  },
  {
   "cell_type": "code",
   "execution_count": 5,
   "id": "sound-instruction",
   "metadata": {},
   "outputs": [
    {
     "data": {
      "text/plain": [
       "['DESCR', 'data', 'feature_names', 'frame', 'images', 'target', 'target_names']"
      ]
     },
     "execution_count": 5,
     "metadata": {},
     "output_type": "execute_result"
    }
   ],
   "source": [
    "dir(digits)"
   ]
  },
  {
   "cell_type": "code",
   "execution_count": 7,
   "id": "cosmetic-malaysia",
   "metadata": {},
   "outputs": [
    {
     "data": {
      "text/plain": [
       "array([ 0.,  0., 12., 10.,  0.,  0.,  0.,  0.,  0.,  0., 14., 16., 16.,\n",
       "       14.,  0.,  0.,  0.,  0., 13., 16., 15., 10.,  1.,  0.,  0.,  0.,\n",
       "       11., 16., 16.,  7.,  0.,  0.,  0.,  0.,  0.,  4.,  7., 16.,  7.,\n",
       "        0.,  0.,  0.,  0.,  0.,  4., 16.,  9.,  0.,  0.,  0.,  5.,  4.,\n",
       "       12., 16.,  4.,  0.,  0.,  0.,  9., 16., 16., 10.,  0.,  0.])"
      ]
     },
     "execution_count": 7,
     "metadata": {},
     "output_type": "execute_result"
    }
   ],
   "source": [
    "digits.data[5]"
   ]
  },
  {
   "cell_type": "code",
   "execution_count": 9,
   "id": "constant-tribe",
   "metadata": {},
   "outputs": [
    {
     "data": {
      "text/plain": [
       "array([0, 1, 2, 3, 4, 5, 6, 7, 8, 9])"
      ]
     },
     "execution_count": 9,
     "metadata": {},
     "output_type": "execute_result"
    }
   ],
   "source": [
    "digits.target_names"
   ]
  },
  {
   "cell_type": "code",
   "execution_count": 14,
   "id": "alike-jonathan",
   "metadata": {},
   "outputs": [
    {
     "data": {
      "text/plain": [
       "<matplotlib.image.AxesImage at 0x2a3c9552f28>"
      ]
     },
     "execution_count": 14,
     "metadata": {},
     "output_type": "execute_result"
    },
    {
     "data": {
      "text/plain": [
       "<Figure size 432x288 with 0 Axes>"
      ]
     },
     "metadata": {},
     "output_type": "display_data"
    },
    {
     "data": {
      "image/png": "[encoded data removed]",
      "text/plain": [
       "<Figure size 288x288 with 1 Axes>"
      ]
     },
     "metadata": {
      "needs_background": "light"
     },
     "output_type": "display_data"
    }
   ],
   "source": [
    "import matplotlib.pyplot as plt\n",
    "plt.gray()\n",
    "plt.matshow(digits.images[1])"
   ]
  },
  {
   "cell_type": "code",
   "execution_count": 19,
   "id": "effective-america",
   "metadata": {},
   "outputs": [
    {
     "name": "stdout",
     "output_type": "stream",
     "text": [
      "[ 0.  0.  0. 12. 13.  5.  0.  0.  0.  0.  0. 11. 16.  9.  0.  0.  0.  0.\n",
      "  3. 15. 16.  6.  0.  0.  0.  7. 15. 16. 16.  2.  0.  0.  0.  0.  1. 16.\n",
      " 16.  3.  0.  0.  0.  0.  1. 16. 16.  6.  0.  0.  0.  0.  1. 16. 16.  6.\n",
      "  0.  0.  0.  0.  0. 11. 16. 10.  0.  0.]\n",
      "3\n"
     ]
    }
   ],
   "source": [
    "X=digits.data\n",
    "y=digits.target\n",
    "print(X[1])\n",
    "print(y[3])"
   ]
  },
  {
   "cell_type": "markdown",
   "id": "derived-trainer",
   "metadata": {},
   "source": [
    "### Lets begin GSCV  to Hyper Parameter Tunning(find best params)"
   ]
  },
  {
   "cell_type": "code",
   "execution_count": 46,
   "id": "worth-analyst",
   "metadata": {},
   "outputs": [],
   "source": [
    "model_params={\n",
    "    'logistic':{\n",
    "        'model':LogisticRegression(solver='liblinear',multi_class='auto'),\n",
    "        'params':{\n",
    "            'C':[1,4,8,12]\n",
    "        }\n",
    "    },\n",
    "    'randomForest':{\n",
    "        'model':RandomForestClassifier(),\n",
    "        'params':{\n",
    "            'n_estimators':[1,4,8,12]\n",
    "        }\n",
    "    },\n",
    "    'DescTree':{\n",
    "        'model':DecisionTreeClassifier(),\n",
    "        'params':{\n",
    "            \n",
    "        }\n",
    "    },\n",
    "    'svm':{\n",
    "        'model':SVC(),\n",
    "        'params':{\n",
    "            'C':[1,4,8,12],\n",
    "            'kernel':['rbf','linear']\n",
    "        }\n",
    "    },\n",
    "    'GaussionNB':{\n",
    "        'model':GaussianNB(),\n",
    "        'params':{\n",
    "            \n",
    "        }\n",
    "    },\n",
    "    'MultinomialNB':{\n",
    "        'model':MultinomialNB(),\n",
    "        'params':{\n",
    "        }\n",
    "    }\n",
    "}"
   ]
  },
  {
   "cell_type": "code",
   "execution_count": 47,
   "id": "proud-columbia",
   "metadata": {},
   "outputs": [
    {
     "name": "stderr",
     "output_type": "stream",
     "text": [
      "C:\\Programfiles\\Anaconda3\\lib\\site-packages\\sklearn\\model_selection\\_validation.py:552: FitFailedWarning: Estimator fit failed. The score on this train-test partition for these parameters will be set to nan. Details: \n",
      "Traceback (most recent call last):\n",
      "  File \"C:\\Programfiles\\Anaconda3\\lib\\site-packages\\sklearn\\model_selection\\_validation.py\", line 531, in _fit_and_score\n",
      "    estimator.fit(X_train, y_train, **fit_params)\n",
      "  File \"C:\\Programfiles\\Anaconda3\\lib\\site-packages\\sklearn\\svm\\_base.py\", line 217, in fit\n",
      "    fit(X, y, sample_weight, solver_type, kernel, random_seed=seed)\n",
      "  File \"C:\\Programfiles\\Anaconda3\\lib\\site-packages\\sklearn\\svm\\_base.py\", line 276, in _dense_fit\n",
      "    max_iter=self.max_iter, random_seed=random_seed)\n",
      "  File \"sklearn\\svm\\_libsvm.pyx\", line 175, in sklearn.svm._libsvm.fit\n",
      "ValueError: 'rbg' is not in list\n",
      "\n",
      "  FitFailedWarning)\n",
      "C:\\Programfiles\\Anaconda3\\lib\\site-packages\\sklearn\\model_selection\\_validation.py:552: FitFailedWarning: Estimator fit failed. The score on this train-test partition for these parameters will be set to nan. Details: \n",
      "Traceback (most recent call last):\n",
      "  File \"C:\\Programfiles\\Anaconda3\\lib\\site-packages\\sklearn\\model_selection\\_validation.py\", line 531, in _fit_and_score\n",
      "    estimator.fit(X_train, y_train, **fit_params)\n",
      "  File \"C:\\Programfiles\\Anaconda3\\lib\\site-packages\\sklearn\\svm\\_base.py\", line 217, in fit\n",
      "    fit(X, y, sample_weight, solver_type, kernel, random_seed=seed)\n",
      "  File \"C:\\Programfiles\\Anaconda3\\lib\\site-packages\\sklearn\\svm\\_base.py\", line 276, in _dense_fit\n",
      "    max_iter=self.max_iter, random_seed=random_seed)\n",
      "  File \"sklearn\\svm\\_libsvm.pyx\", line 175, in sklearn.svm._libsvm.fit\n",
      "ValueError: 'rbg' is not in list\n",
      "\n",
      "  FitFailedWarning)\n",
      "C:\\Programfiles\\Anaconda3\\lib\\site-packages\\sklearn\\model_selection\\_validation.py:552: FitFailedWarning: Estimator fit failed. The score on this train-test partition for these parameters will be set to nan. Details: \n",
      "Traceback (most recent call last):\n",
      "  File \"C:\\Programfiles\\Anaconda3\\lib\\site-packages\\sklearn\\model_selection\\_validation.py\", line 531, in _fit_and_score\n",
      "    estimator.fit(X_train, y_train, **fit_params)\n",
      "  File \"C:\\Programfiles\\Anaconda3\\lib\\site-packages\\sklearn\\svm\\_base.py\", line 217, in fit\n",
      "    fit(X, y, sample_weight, solver_type, kernel, random_seed=seed)\n",
      "  File \"C:\\Programfiles\\Anaconda3\\lib\\site-packages\\sklearn\\svm\\_base.py\", line 276, in _dense_fit\n",
      "    max_iter=self.max_iter, random_seed=random_seed)\n",
      "  File \"sklearn\\svm\\_libsvm.pyx\", line 175, in sklearn.svm._libsvm.fit\n",
      "ValueError: 'rbg' is not in list\n",
      "\n",
      "  FitFailedWarning)\n",
      "C:\\Programfiles\\Anaconda3\\lib\\site-packages\\sklearn\\model_selection\\_validation.py:552: FitFailedWarning: Estimator fit failed. The score on this train-test partition for these parameters will be set to nan. Details: \n",
      "Traceback (most recent call last):\n",
      "  File \"C:\\Programfiles\\Anaconda3\\lib\\site-packages\\sklearn\\model_selection\\_validation.py\", line 531, in _fit_and_score\n",
      "    estimator.fit(X_train, y_train, **fit_params)\n",
      "  File \"C:\\Programfiles\\Anaconda3\\lib\\site-packages\\sklearn\\svm\\_base.py\", line 217, in fit\n",
      "    fit(X, y, sample_weight, solver_type, kernel, random_seed=seed)\n",
      "  File \"C:\\Programfiles\\Anaconda3\\lib\\site-packages\\sklearn\\svm\\_base.py\", line 276, in _dense_fit\n",
      "    max_iter=self.max_iter, random_seed=random_seed)\n",
      "  File \"sklearn\\svm\\_libsvm.pyx\", line 175, in sklearn.svm._libsvm.fit\n",
      "ValueError: 'rbg' is not in list\n",
      "\n",
      "  FitFailedWarning)\n",
      "C:\\Programfiles\\Anaconda3\\lib\\site-packages\\sklearn\\model_selection\\_validation.py:552: FitFailedWarning: Estimator fit failed. The score on this train-test partition for these parameters will be set to nan. Details: \n",
      "Traceback (most recent call last):\n",
      "  File \"C:\\Programfiles\\Anaconda3\\lib\\site-packages\\sklearn\\model_selection\\_validation.py\", line 531, in _fit_and_score\n",
      "    estimator.fit(X_train, y_train, **fit_params)\n",
      "  File \"C:\\Programfiles\\Anaconda3\\lib\\site-packages\\sklearn\\svm\\_base.py\", line 217, in fit\n",
      "    fit(X, y, sample_weight, solver_type, kernel, random_seed=seed)\n",
      "  File \"C:\\Programfiles\\Anaconda3\\lib\\site-packages\\sklearn\\svm\\_base.py\", line 276, in _dense_fit\n",
      "    max_iter=self.max_iter, random_seed=random_seed)\n",
      "  File \"sklearn\\svm\\_libsvm.pyx\", line 175, in sklearn.svm._libsvm.fit\n",
      "ValueError: 'rbg' is not in list\n",
      "\n",
      "  FitFailedWarning)\n",
      "C:\\Programfiles\\Anaconda3\\lib\\site-packages\\sklearn\\model_selection\\_validation.py:552: FitFailedWarning: Estimator fit failed. The score on this train-test partition for these parameters will be set to nan. Details: \n",
      "Traceback (most recent call last):\n",
      "  File \"C:\\Programfiles\\Anaconda3\\lib\\site-packages\\sklearn\\model_selection\\_validation.py\", line 531, in _fit_and_score\n",
      "    estimator.fit(X_train, y_train, **fit_params)\n",
      "  File \"C:\\Programfiles\\Anaconda3\\lib\\site-packages\\sklearn\\svm\\_base.py\", line 217, in fit\n",
      "    fit(X, y, sample_weight, solver_type, kernel, random_seed=seed)\n",
      "  File \"C:\\Programfiles\\Anaconda3\\lib\\site-packages\\sklearn\\svm\\_base.py\", line 276, in _dense_fit\n",
      "    max_iter=self.max_iter, random_seed=random_seed)\n",
      "  File \"sklearn\\svm\\_libsvm.pyx\", line 175, in sklearn.svm._libsvm.fit\n",
      "ValueError: 'rbg' is not in list\n",
      "\n",
      "  FitFailedWarning)\n",
      "C:\\Programfiles\\Anaconda3\\lib\\site-packages\\sklearn\\model_selection\\_validation.py:552: FitFailedWarning: Estimator fit failed. The score on this train-test partition for these parameters will be set to nan. Details: \n",
      "Traceback (most recent call last):\n",
      "  File \"C:\\Programfiles\\Anaconda3\\lib\\site-packages\\sklearn\\model_selection\\_validation.py\", line 531, in _fit_and_score\n",
      "    estimator.fit(X_train, y_train, **fit_params)\n",
      "  File \"C:\\Programfiles\\Anaconda3\\lib\\site-packages\\sklearn\\svm\\_base.py\", line 217, in fit\n",
      "    fit(X, y, sample_weight, solver_type, kernel, random_seed=seed)\n",
      "  File \"C:\\Programfiles\\Anaconda3\\lib\\site-packages\\sklearn\\svm\\_base.py\", line 276, in _dense_fit\n",
      "    max_iter=self.max_iter, random_seed=random_seed)\n",
      "  File \"sklearn\\svm\\_libsvm.pyx\", line 175, in sklearn.svm._libsvm.fit\n",
      "ValueError: 'rbg' is not in list\n",
      "\n",
      "  FitFailedWarning)\n",
      "C:\\Programfiles\\Anaconda3\\lib\\site-packages\\sklearn\\model_selection\\_validation.py:552: FitFailedWarning: Estimator fit failed. The score on this train-test partition for these parameters will be set to nan. Details: \n",
      "Traceback (most recent call last):\n",
      "  File \"C:\\Programfiles\\Anaconda3\\lib\\site-packages\\sklearn\\model_selection\\_validation.py\", line 531, in _fit_and_score\n",
      "    estimator.fit(X_train, y_train, **fit_params)\n",
      "  File \"C:\\Programfiles\\Anaconda3\\lib\\site-packages\\sklearn\\svm\\_base.py\", line 217, in fit\n",
      "    fit(X, y, sample_weight, solver_type, kernel, random_seed=seed)\n",
      "  File \"C:\\Programfiles\\Anaconda3\\lib\\site-packages\\sklearn\\svm\\_base.py\", line 276, in _dense_fit\n",
      "    max_iter=self.max_iter, random_seed=random_seed)\n",
      "  File \"sklearn\\svm\\_libsvm.pyx\", line 175, in sklearn.svm._libsvm.fit\n",
      "ValueError: 'rbg' is not in list\n",
      "\n",
      "  FitFailedWarning)\n",
      "C:\\Programfiles\\Anaconda3\\lib\\site-packages\\sklearn\\model_selection\\_validation.py:552: FitFailedWarning: Estimator fit failed. The score on this train-test partition for these parameters will be set to nan. Details: \n",
      "Traceback (most recent call last):\n",
      "  File \"C:\\Programfiles\\Anaconda3\\lib\\site-packages\\sklearn\\model_selection\\_validation.py\", line 531, in _fit_and_score\n",
      "    estimator.fit(X_train, y_train, **fit_params)\n",
      "  File \"C:\\Programfiles\\Anaconda3\\lib\\site-packages\\sklearn\\svm\\_base.py\", line 217, in fit\n",
      "    fit(X, y, sample_weight, solver_type, kernel, random_seed=seed)\n",
      "  File \"C:\\Programfiles\\Anaconda3\\lib\\site-packages\\sklearn\\svm\\_base.py\", line 276, in _dense_fit\n",
      "    max_iter=self.max_iter, random_seed=random_seed)\n",
      "  File \"sklearn\\svm\\_libsvm.pyx\", line 175, in sklearn.svm._libsvm.fit\n",
      "ValueError: 'rbg' is not in list\n",
      "\n",
      "  FitFailedWarning)\n",
      "C:\\Programfiles\\Anaconda3\\lib\\site-packages\\sklearn\\model_selection\\_validation.py:552: FitFailedWarning: Estimator fit failed. The score on this train-test partition for these parameters will be set to nan. Details: \n",
      "Traceback (most recent call last):\n",
      "  File \"C:\\Programfiles\\Anaconda3\\lib\\site-packages\\sklearn\\model_selection\\_validation.py\", line 531, in _fit_and_score\n",
      "    estimator.fit(X_train, y_train, **fit_params)\n",
      "  File \"C:\\Programfiles\\Anaconda3\\lib\\site-packages\\sklearn\\svm\\_base.py\", line 217, in fit\n",
      "    fit(X, y, sample_weight, solver_type, kernel, random_seed=seed)\n",
      "  File \"C:\\Programfiles\\Anaconda3\\lib\\site-packages\\sklearn\\svm\\_base.py\", line 276, in _dense_fit\n",
      "    max_iter=self.max_iter, random_seed=random_seed)\n",
      "  File \"sklearn\\svm\\_libsvm.pyx\", line 175, in sklearn.svm._libsvm.fit\n",
      "ValueError: 'rbg' is not in list\n",
      "\n",
      "  FitFailedWarning)\n"
     ]
    },
    {
     "name": "stderr",
     "output_type": "stream",
     "text": [
      "C:\\Programfiles\\Anaconda3\\lib\\site-packages\\sklearn\\model_selection\\_validation.py:552: FitFailedWarning: Estimator fit failed. The score on this train-test partition for these parameters will be set to nan. Details: \n",
      "Traceback (most recent call last):\n",
      "  File \"C:\\Programfiles\\Anaconda3\\lib\\site-packages\\sklearn\\model_selection\\_validation.py\", line 531, in _fit_and_score\n",
      "    estimator.fit(X_train, y_train, **fit_params)\n",
      "  File \"C:\\Programfiles\\Anaconda3\\lib\\site-packages\\sklearn\\svm\\_base.py\", line 217, in fit\n",
      "    fit(X, y, sample_weight, solver_type, kernel, random_seed=seed)\n",
      "  File \"C:\\Programfiles\\Anaconda3\\lib\\site-packages\\sklearn\\svm\\_base.py\", line 276, in _dense_fit\n",
      "    max_iter=self.max_iter, random_seed=random_seed)\n",
      "  File \"sklearn\\svm\\_libsvm.pyx\", line 175, in sklearn.svm._libsvm.fit\n",
      "ValueError: 'rbg' is not in list\n",
      "\n",
      "  FitFailedWarning)\n",
      "C:\\Programfiles\\Anaconda3\\lib\\site-packages\\sklearn\\model_selection\\_validation.py:552: FitFailedWarning: Estimator fit failed. The score on this train-test partition for these parameters will be set to nan. Details: \n",
      "Traceback (most recent call last):\n",
      "  File \"C:\\Programfiles\\Anaconda3\\lib\\site-packages\\sklearn\\model_selection\\_validation.py\", line 531, in _fit_and_score\n",
      "    estimator.fit(X_train, y_train, **fit_params)\n",
      "  File \"C:\\Programfiles\\Anaconda3\\lib\\site-packages\\sklearn\\svm\\_base.py\", line 217, in fit\n",
      "    fit(X, y, sample_weight, solver_type, kernel, random_seed=seed)\n",
      "  File \"C:\\Programfiles\\Anaconda3\\lib\\site-packages\\sklearn\\svm\\_base.py\", line 276, in _dense_fit\n",
      "    max_iter=self.max_iter, random_seed=random_seed)\n",
      "  File \"sklearn\\svm\\_libsvm.pyx\", line 175, in sklearn.svm._libsvm.fit\n",
      "ValueError: 'rbg' is not in list\n",
      "\n",
      "  FitFailedWarning)\n",
      "C:\\Programfiles\\Anaconda3\\lib\\site-packages\\sklearn\\model_selection\\_validation.py:552: FitFailedWarning: Estimator fit failed. The score on this train-test partition for these parameters will be set to nan. Details: \n",
      "Traceback (most recent call last):\n",
      "  File \"C:\\Programfiles\\Anaconda3\\lib\\site-packages\\sklearn\\model_selection\\_validation.py\", line 531, in _fit_and_score\n",
      "    estimator.fit(X_train, y_train, **fit_params)\n",
      "  File \"C:\\Programfiles\\Anaconda3\\lib\\site-packages\\sklearn\\svm\\_base.py\", line 217, in fit\n",
      "    fit(X, y, sample_weight, solver_type, kernel, random_seed=seed)\n",
      "  File \"C:\\Programfiles\\Anaconda3\\lib\\site-packages\\sklearn\\svm\\_base.py\", line 276, in _dense_fit\n",
      "    max_iter=self.max_iter, random_seed=random_seed)\n",
      "  File \"sklearn\\svm\\_libsvm.pyx\", line 175, in sklearn.svm._libsvm.fit\n",
      "ValueError: 'rbg' is not in list\n",
      "\n",
      "  FitFailedWarning)\n",
      "C:\\Programfiles\\Anaconda3\\lib\\site-packages\\sklearn\\model_selection\\_validation.py:552: FitFailedWarning: Estimator fit failed. The score on this train-test partition for these parameters will be set to nan. Details: \n",
      "Traceback (most recent call last):\n",
      "  File \"C:\\Programfiles\\Anaconda3\\lib\\site-packages\\sklearn\\model_selection\\_validation.py\", line 531, in _fit_and_score\n",
      "    estimator.fit(X_train, y_train, **fit_params)\n",
      "  File \"C:\\Programfiles\\Anaconda3\\lib\\site-packages\\sklearn\\svm\\_base.py\", line 217, in fit\n",
      "    fit(X, y, sample_weight, solver_type, kernel, random_seed=seed)\n",
      "  File \"C:\\Programfiles\\Anaconda3\\lib\\site-packages\\sklearn\\svm\\_base.py\", line 276, in _dense_fit\n",
      "    max_iter=self.max_iter, random_seed=random_seed)\n",
      "  File \"sklearn\\svm\\_libsvm.pyx\", line 175, in sklearn.svm._libsvm.fit\n",
      "ValueError: 'rbg' is not in list\n",
      "\n",
      "  FitFailedWarning)\n",
      "C:\\Programfiles\\Anaconda3\\lib\\site-packages\\sklearn\\model_selection\\_validation.py:552: FitFailedWarning: Estimator fit failed. The score on this train-test partition for these parameters will be set to nan. Details: \n",
      "Traceback (most recent call last):\n",
      "  File \"C:\\Programfiles\\Anaconda3\\lib\\site-packages\\sklearn\\model_selection\\_validation.py\", line 531, in _fit_and_score\n",
      "    estimator.fit(X_train, y_train, **fit_params)\n",
      "  File \"C:\\Programfiles\\Anaconda3\\lib\\site-packages\\sklearn\\svm\\_base.py\", line 217, in fit\n",
      "    fit(X, y, sample_weight, solver_type, kernel, random_seed=seed)\n",
      "  File \"C:\\Programfiles\\Anaconda3\\lib\\site-packages\\sklearn\\svm\\_base.py\", line 276, in _dense_fit\n",
      "    max_iter=self.max_iter, random_seed=random_seed)\n",
      "  File \"sklearn\\svm\\_libsvm.pyx\", line 175, in sklearn.svm._libsvm.fit\n",
      "ValueError: 'rbg' is not in list\n",
      "\n",
      "  FitFailedWarning)\n",
      "C:\\Programfiles\\Anaconda3\\lib\\site-packages\\sklearn\\model_selection\\_validation.py:552: FitFailedWarning: Estimator fit failed. The score on this train-test partition for these parameters will be set to nan. Details: \n",
      "Traceback (most recent call last):\n",
      "  File \"C:\\Programfiles\\Anaconda3\\lib\\site-packages\\sklearn\\model_selection\\_validation.py\", line 531, in _fit_and_score\n",
      "    estimator.fit(X_train, y_train, **fit_params)\n",
      "  File \"C:\\Programfiles\\Anaconda3\\lib\\site-packages\\sklearn\\svm\\_base.py\", line 217, in fit\n",
      "    fit(X, y, sample_weight, solver_type, kernel, random_seed=seed)\n",
      "  File \"C:\\Programfiles\\Anaconda3\\lib\\site-packages\\sklearn\\svm\\_base.py\", line 276, in _dense_fit\n",
      "    max_iter=self.max_iter, random_seed=random_seed)\n",
      "  File \"sklearn\\svm\\_libsvm.pyx\", line 175, in sklearn.svm._libsvm.fit\n",
      "ValueError: 'rbg' is not in list\n",
      "\n",
      "  FitFailedWarning)\n",
      "C:\\Programfiles\\Anaconda3\\lib\\site-packages\\sklearn\\model_selection\\_validation.py:552: FitFailedWarning: Estimator fit failed. The score on this train-test partition for these parameters will be set to nan. Details: \n",
      "Traceback (most recent call last):\n",
      "  File \"C:\\Programfiles\\Anaconda3\\lib\\site-packages\\sklearn\\model_selection\\_validation.py\", line 531, in _fit_and_score\n",
      "    estimator.fit(X_train, y_train, **fit_params)\n",
      "  File \"C:\\Programfiles\\Anaconda3\\lib\\site-packages\\sklearn\\svm\\_base.py\", line 217, in fit\n",
      "    fit(X, y, sample_weight, solver_type, kernel, random_seed=seed)\n",
      "  File \"C:\\Programfiles\\Anaconda3\\lib\\site-packages\\sklearn\\svm\\_base.py\", line 276, in _dense_fit\n",
      "    max_iter=self.max_iter, random_seed=random_seed)\n",
      "  File \"sklearn\\svm\\_libsvm.pyx\", line 175, in sklearn.svm._libsvm.fit\n",
      "ValueError: 'rbg' is not in list\n",
      "\n",
      "  FitFailedWarning)\n",
      "C:\\Programfiles\\Anaconda3\\lib\\site-packages\\sklearn\\model_selection\\_validation.py:552: FitFailedWarning: Estimator fit failed. The score on this train-test partition for these parameters will be set to nan. Details: \n",
      "Traceback (most recent call last):\n",
      "  File \"C:\\Programfiles\\Anaconda3\\lib\\site-packages\\sklearn\\model_selection\\_validation.py\", line 531, in _fit_and_score\n",
      "    estimator.fit(X_train, y_train, **fit_params)\n",
      "  File \"C:\\Programfiles\\Anaconda3\\lib\\site-packages\\sklearn\\svm\\_base.py\", line 217, in fit\n",
      "    fit(X, y, sample_weight, solver_type, kernel, random_seed=seed)\n",
      "  File \"C:\\Programfiles\\Anaconda3\\lib\\site-packages\\sklearn\\svm\\_base.py\", line 276, in _dense_fit\n",
      "    max_iter=self.max_iter, random_seed=random_seed)\n",
      "  File \"sklearn\\svm\\_libsvm.pyx\", line 175, in sklearn.svm._libsvm.fit\n",
      "ValueError: 'rbg' is not in list\n",
      "\n",
      "  FitFailedWarning)\n",
      "C:\\Programfiles\\Anaconda3\\lib\\site-packages\\sklearn\\model_selection\\_validation.py:552: FitFailedWarning: Estimator fit failed. The score on this train-test partition for these parameters will be set to nan. Details: \n",
      "Traceback (most recent call last):\n",
      "  File \"C:\\Programfiles\\Anaconda3\\lib\\site-packages\\sklearn\\model_selection\\_validation.py\", line 531, in _fit_and_score\n",
      "    estimator.fit(X_train, y_train, **fit_params)\n",
      "  File \"C:\\Programfiles\\Anaconda3\\lib\\site-packages\\sklearn\\svm\\_base.py\", line 217, in fit\n",
      "    fit(X, y, sample_weight, solver_type, kernel, random_seed=seed)\n",
      "  File \"C:\\Programfiles\\Anaconda3\\lib\\site-packages\\sklearn\\svm\\_base.py\", line 276, in _dense_fit\n",
      "    max_iter=self.max_iter, random_seed=random_seed)\n",
      "  File \"sklearn\\svm\\_libsvm.pyx\", line 175, in sklearn.svm._libsvm.fit\n",
      "ValueError: 'rbg' is not in list\n",
      "\n",
      "  FitFailedWarning)\n",
      "C:\\Programfiles\\Anaconda3\\lib\\site-packages\\sklearn\\model_selection\\_validation.py:552: FitFailedWarning: Estimator fit failed. The score on this train-test partition for these parameters will be set to nan. Details: \n",
      "Traceback (most recent call last):\n",
      "  File \"C:\\Programfiles\\Anaconda3\\lib\\site-packages\\sklearn\\model_selection\\_validation.py\", line 531, in _fit_and_score\n",
      "    estimator.fit(X_train, y_train, **fit_params)\n",
      "  File \"C:\\Programfiles\\Anaconda3\\lib\\site-packages\\sklearn\\svm\\_base.py\", line 217, in fit\n",
      "    fit(X, y, sample_weight, solver_type, kernel, random_seed=seed)\n",
      "  File \"C:\\Programfiles\\Anaconda3\\lib\\site-packages\\sklearn\\svm\\_base.py\", line 276, in _dense_fit\n",
      "    max_iter=self.max_iter, random_seed=random_seed)\n",
      "  File \"sklearn\\svm\\_libsvm.pyx\", line 175, in sklearn.svm._libsvm.fit\n",
      "ValueError: 'rbg' is not in list\n",
      "\n",
      "  FitFailedWarning)\n"
     ]
    },
    {
     "data": {
      "text/html": [
       "<div>\n",
       "<style scoped>\n",
       "    .dataframe tbody tr th:only-of-type {\n",
       "        vertical-align: middle;\n",
       "    }\n",
       "\n",
       "    .dataframe tbody tr th {\n",
       "        vertical-align: top;\n",
       "    }\n",
       "\n",
       "    .dataframe thead th {\n",
       "        text-align: right;\n",
       "    }\n",
       "</style>\n",
       "<table border=\"1\" class=\"dataframe\">\n",
       "  <thead>\n",
       "    <tr style=\"text-align: right;\">\n",
       "      <th></th>\n",
       "      <th>model</th>\n",
       "      <th>best_score</th>\n",
       "      <th>best_params</th>\n",
       "    </tr>\n",
       "  </thead>\n",
       "  <tbody>\n",
       "    <tr>\n",
       "      <th>0</th>\n",
       "      <td>logistic</td>\n",
       "      <td>0.922114</td>\n",
       "      <td>{'C': 1}</td>\n",
       "    </tr>\n",
       "    <tr>\n",
       "      <th>1</th>\n",
       "      <td>randomForest</td>\n",
       "      <td>0.905416</td>\n",
       "      <td>{'n_estimators': 12}</td>\n",
       "    </tr>\n",
       "    <tr>\n",
       "      <th>2</th>\n",
       "      <td>DescTree</td>\n",
       "      <td>0.780799</td>\n",
       "      <td>{}</td>\n",
       "    </tr>\n",
       "    <tr>\n",
       "      <th>3</th>\n",
       "      <td>svm</td>\n",
       "      <td>0.947697</td>\n",
       "      <td>{'C': 1, 'kernel': 'linear'}</td>\n",
       "    </tr>\n",
       "    <tr>\n",
       "      <th>4</th>\n",
       "      <td>GaussionNB</td>\n",
       "      <td>0.806928</td>\n",
       "      <td>{}</td>\n",
       "    </tr>\n",
       "    <tr>\n",
       "      <th>5</th>\n",
       "      <td>MultinomialNB</td>\n",
       "      <td>0.870350</td>\n",
       "      <td>{}</td>\n",
       "    </tr>\n",
       "  </tbody>\n",
       "</table>\n",
       "</div>"
      ],
      "text/plain": [
       "           model  best_score                   best_params\n",
       "0       logistic    0.922114                      {'C': 1}\n",
       "1   randomForest    0.905416          {'n_estimators': 12}\n",
       "2       DescTree    0.780799                            {}\n",
       "3            svm    0.947697  {'C': 1, 'kernel': 'linear'}\n",
       "4     GaussionNB    0.806928                            {}\n",
       "5  MultinomialNB    0.870350                            {}"
      ]
     },
     "execution_count": 47,
     "metadata": {},
     "output_type": "execute_result"
    }
   ],
   "source": [
    "from sklearn.model_selection import GridSearchCV\n",
    "import pandas as pd\n",
    "scores=[]\n",
    "for model_name,modelInfo in model_params.items():\n",
    "    clf=GridSearchCV(modelInfo['model'],modelInfo['params'],cv=5,return_train_score=False)\n",
    "    clf.fit(X,y)\n",
    "    scores.append({\n",
    "        'model':model_name,\n",
    "        'best_score':clf.best_score_,\n",
    "        'best_params':clf.best_params_\n",
    "    })\n",
    "    \n",
    "df=pd.DataFrame(scores,columns=['model','best_score','best_params'])\n",
    "df\n"
   ]
  },
  {
   "cell_type": "code",
   "execution_count": null,
   "id": "built-infrared",
   "metadata": {},
   "outputs": [],
   "source": []
  },
  {
   "cell_type": "code",
   "execution_count": null,
   "id": "arabic-librarian",
   "metadata": {},
   "outputs": [],
   "source": []
  },
  {
   "cell_type": "code",
   "execution_count": null,
   "id": "internal-waste",
   "metadata": {},
   "outputs": [],
   "source": []
  }
 ],
 "metadata": {
  "kernelspec": {
   "display_name": "Python 3",
   "language": "python",
   "name": "python3"
  },
  "language_info": {
   "codemirror_mode": {
    "name": "ipython",
    "version": 3
   },
   "file_extension": ".py",
   "mimetype": "text/x-python",
   "name": "python",
   "nbconvert_exporter": "python",
   "pygments_lexer": "ipython3",
   "version": "3.7.1"
  }
 },
 "nbformat": 4,
 "nbformat_minor": 5
}
